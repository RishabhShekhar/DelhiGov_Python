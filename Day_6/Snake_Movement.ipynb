{
 "cells": [
  {
   "cell_type": "code",
   "execution_count": 2,
   "id": "bacterial-forth",
   "metadata": {},
   "outputs": [
    {
     "name": "stdout",
     "output_type": "stream",
     "text": [
      "[[300, 300], [320, 300], [340, 300], [360, 300]]\n"
     ]
    }
   ],
   "source": [
    "snake_pos =[[300, 300], [320, 300], [340, 300], [360, 300]]\n",
    "\n",
    "step = 20\n",
    "up = (0, -step)\n",
    "down = (0, step)\n",
    "left = (-step, 0)\n",
    "right = (step, 0)\n",
    "\n",
    "direction = left\n",
    "\n",
    "print(snake_pos)"
   ]
  },
  {
   "cell_type": "code",
   "execution_count": 3,
   "id": "impaired-plate",
   "metadata": {},
   "outputs": [],
   "source": [
    "snake_pos = [[snake_pos[0][0]+direction[0], snake_pos[0][1]+direction[1]]] + snake_pos[:-1]"
   ]
  },
  {
   "cell_type": "code",
   "execution_count": 4,
   "id": "exact-somewhere",
   "metadata": {},
   "outputs": [
    {
     "name": "stdout",
     "output_type": "stream",
     "text": [
      "[[280, 300], [300, 300], [320, 300], [340, 300]]\n"
     ]
    }
   ],
   "source": [
    "print(snake_pos)"
   ]
  },
  {
   "cell_type": "code",
   "execution_count": null,
   "id": "scenic-strike",
   "metadata": {},
   "outputs": [],
   "source": []
  }
 ],
 "metadata": {
  "kernelspec": {
   "display_name": "Python 3",
   "language": "python",
   "name": "python3"
  },
  "language_info": {
   "codemirror_mode": {
    "name": "ipython",
    "version": 3
   },
   "file_extension": ".py",
   "mimetype": "text/x-python",
   "name": "python",
   "nbconvert_exporter": "python",
   "pygments_lexer": "ipython3",
   "version": "3.7.4"
  }
 },
 "nbformat": 4,
 "nbformat_minor": 5
}
