{
 "cells": [
  {
   "cell_type": "code",
   "execution_count": 1,
   "id": "returning-economy",
   "metadata": {},
   "outputs": [],
   "source": [
    "class Employee:\n",
    "    raise_amount = 1.04\n",
    "    def __init__(self, first, last, pay):\n",
    "        self.first = first\n",
    "        self.last = last\n",
    "        self.pay = pay\n",
    "        self.email = first + '.' + last + '@codingblocks.com'\n",
    "    \n",
    "    def fullname(self):\n",
    "        return \"{} {}\".format(self.first, self.last)\n",
    "    \n",
    "    def apply_raise(self):\n",
    "        self.pay = self.pay * self.raise_amount"
   ]
  },
  {
   "cell_type": "code",
   "execution_count": 2,
   "id": "western-warrant",
   "metadata": {},
   "outputs": [],
   "source": [
    "e1 = Employee(\"Rishabh\",\"Shekhar\",10000)\n",
    "e2 = Employee(\"Aakash\",\"Gupta\",20000)"
   ]
  },
  {
   "cell_type": "code",
   "execution_count": 3,
   "id": "planned-miniature",
   "metadata": {},
   "outputs": [
    {
     "data": {
      "text/plain": [
       "'p'"
      ]
     },
     "execution_count": 3,
     "metadata": {},
     "output_type": "execute_result"
    }
   ],
   "source": [
    "word = \"python\"\n",
    "word[-6]\n"
   ]
  },
  {
   "cell_type": "code",
   "execution_count": 4,
   "id": "spectacular-finland",
   "metadata": {},
   "outputs": [
    {
     "ename": "IndexError",
     "evalue": "string index out of range",
     "output_type": "error",
     "traceback": [
      "\u001b[0;31m---------------------------------------------------------------------------\u001b[0m",
      "\u001b[0;31mIndexError\u001b[0m                                Traceback (most recent call last)",
      "\u001b[0;32m<ipython-input-4-8fed510628cf>\u001b[0m in \u001b[0;36m<module>\u001b[0;34m\u001b[0m\n\u001b[0;32m----> 1\u001b[0;31m \u001b[0mword\u001b[0m\u001b[0;34m[\u001b[0m\u001b[0;36m6\u001b[0m\u001b[0;34m]\u001b[0m\u001b[0;34m\u001b[0m\u001b[0;34m\u001b[0m\u001b[0m\n\u001b[0m",
      "\u001b[0;31mIndexError\u001b[0m: string index out of range"
     ]
    }
   ],
   "source": [
    "word[6]"
   ]
  },
  {
   "cell_type": "markdown",
   "id": "eastern-generation",
   "metadata": {},
   "source": [
    "p 0 -6\n",
    "y 1 -5\n",
    "t 2 -4\n",
    "h 3 -3\n",
    "o 4 -2\n",
    "n 5 -1"
   ]
  },
  {
   "cell_type": "code",
   "execution_count": 5,
   "id": "human-saturn",
   "metadata": {},
   "outputs": [
    {
     "name": "stdout",
     "output_type": "stream",
     "text": [
      "1\n",
      "Indexes of 1 :  [0, 4, 7]\n"
     ]
    }
   ],
   "source": [
    "l=[1,2,3,4,1,5,3,1,2,4]\n",
    "k = int(input())\n",
    "l1=[]\n",
    "for i in range(len(l)):\n",
    "    if l[i]==k:\n",
    "        l1.append(i)\n",
    "\n",
    "print(\"Indexes of\",k,\": \", l1)"
   ]
  },
  {
   "cell_type": "code",
   "execution_count": 6,
   "id": "congressional-moses",
   "metadata": {},
   "outputs": [
    {
     "data": {
      "text/plain": [
       "0"
      ]
     },
     "execution_count": 6,
     "metadata": {},
     "output_type": "execute_result"
    }
   ],
   "source": [
    "l.index(1)"
   ]
  },
  {
   "cell_type": "code",
   "execution_count": 8,
   "id": "tropical-crash",
   "metadata": {},
   "outputs": [
    {
     "data": {
      "text/plain": [
       "'[1, 2, 3, 4, 1, 5, 3, 1, 2, 4]'"
      ]
     },
     "execution_count": 8,
     "metadata": {},
     "output_type": "execute_result"
    }
   ],
   "source": [
    "str(l)"
   ]
  },
  {
   "cell_type": "code",
   "execution_count": 18,
   "id": "living-advocacy",
   "metadata": {},
   "outputs": [
    {
     "name": "stdout",
     "output_type": "stream",
     "text": [
      "Original list : [1, 3, 4, 3, 6, 7, 8, 7, 9, 5, 6, 1, 7]\n",
      "New indices list : [5, 7, 12]\n"
     ]
    }
   ],
   "source": [
    "test_list = [1,3,4,3,6,7,8,7,9,5,6,1,7]\n",
    "\n",
    "print(\"Original list : \" + str(test_list))\n",
    "\n",
    "res_list = []\n",
    "\n",
    "for i in range(0, len(test_list)):\n",
    "    if test_list[i] ==7:\n",
    "        res_list.append(i)\n",
    "\n",
    "print(\"New indices list : \" + str(res_list))"
   ]
  },
  {
   "cell_type": "code",
   "execution_count": 22,
   "id": "bottom-wholesale",
   "metadata": {},
   "outputs": [],
   "source": [
    "a = \"The\"\n",
    "test_list?"
   ]
  },
  {
   "cell_type": "code",
   "execution_count": 23,
   "id": "academic-waterproof",
   "metadata": {},
   "outputs": [
    {
     "name": "stdout",
     "output_type": "stream",
     "text": [
      "The Zen of Python, by Tim Peters\n",
      "\n",
      "Beautiful is better than ugly.\n",
      "Explicit is better than implicit.\n",
      "Simple is better than complex.\n",
      "Complex is better than complicated.\n",
      "Flat is better than nested.\n",
      "Sparse is better than dense.\n",
      "Readability counts.\n",
      "Special cases aren't special enough to break the rules.\n",
      "Although practicality beats purity.\n",
      "Errors should never pass silently.\n",
      "Unless explicitly silenced.\n",
      "In the face of ambiguity, refuse the temptation to guess.\n",
      "There should be one-- and preferably only one --obvious way to do it.\n",
      "Although that way may not be obvious at first unless you're Dutch.\n",
      "Now is better than never.\n",
      "Although never is often better than *right* now.\n",
      "If the implementation is hard to explain, it's a bad idea.\n",
      "If the implementation is easy to explain, it may be a good idea.\n",
      "Namespaces are one honking great idea -- let's do more of those!\n"
     ]
    }
   ],
   "source": [
    "import this"
   ]
  },
  {
   "cell_type": "code",
   "execution_count": 28,
   "id": "sought-review",
   "metadata": {},
   "outputs": [],
   "source": [
    "class Employee:\n",
    "    raise_amount = 1.04\n",
    "    num_of_emps = 0\n",
    "    \n",
    "    def __init__(self, first, last, pay):\n",
    "        self.first = first\n",
    "        self.last = last\n",
    "        self.pay = pay\n",
    "        self.email = first + '.' + last + '@codingblocks.com'\n",
    "        \n",
    "        Employee.num_of_emps += 1\n",
    "    \n",
    "    def fullname(self):\n",
    "        return \"{} {}\".format(self.first, self.last)\n",
    "    \n",
    "    def apply_raise(self):\n",
    "        self.pay = self.pay * self.raise_amount"
   ]
  },
  {
   "cell_type": "code",
   "execution_count": 29,
   "id": "composite-shopping",
   "metadata": {},
   "outputs": [],
   "source": [
    "e1 = Employee(\"Rishabh\",\"Shekhar\",10000)\n",
    "e2 = Employee(\"Aakash\",\"Gupta\",20000)"
   ]
  },
  {
   "cell_type": "code",
   "execution_count": 30,
   "id": "czech-title",
   "metadata": {},
   "outputs": [
    {
     "data": {
      "text/plain": [
       "2"
      ]
     },
     "execution_count": 30,
     "metadata": {},
     "output_type": "execute_result"
    }
   ],
   "source": [
    "Employee.num_of_emps"
   ]
  },
  {
   "cell_type": "code",
   "execution_count": 33,
   "id": "incomplete-protection",
   "metadata": {},
   "outputs": [
    {
     "data": {
      "text/plain": [
       "2"
      ]
     },
     "execution_count": 33,
     "metadata": {},
     "output_type": "execute_result"
    }
   ],
   "source": [
    "e1.num_of_emps"
   ]
  },
  {
   "cell_type": "code",
   "execution_count": 32,
   "id": "exotic-checklist",
   "metadata": {},
   "outputs": [
    {
     "data": {
      "text/plain": [
       "mappingproxy({'__module__': '__main__',\n",
       "              'raise_amount': 1.04,\n",
       "              'num_of_emps': 2,\n",
       "              '__init__': <function __main__.Employee.__init__(self, first, last, pay)>,\n",
       "              'fullname': <function __main__.Employee.fullname(self)>,\n",
       "              'apply_raise': <function __main__.Employee.apply_raise(self)>,\n",
       "              '__dict__': <attribute '__dict__' of 'Employee' objects>,\n",
       "              '__weakref__': <attribute '__weakref__' of 'Employee' objects>,\n",
       "              '__doc__': None})"
      ]
     },
     "execution_count": 32,
     "metadata": {},
     "output_type": "execute_result"
    }
   ],
   "source": [
    "Employee.__dict__"
   ]
  },
  {
   "cell_type": "code",
   "execution_count": 35,
   "id": "social-pricing",
   "metadata": {},
   "outputs": [
    {
     "data": {
      "text/plain": [
       "{'first': 'Rishabh',\n",
       " 'last': 'Shekhar',\n",
       " 'pay': 10000,\n",
       " 'email': 'Rishabh.Shekhar@codingblocks.com'}"
      ]
     },
     "execution_count": 35,
     "metadata": {},
     "output_type": "execute_result"
    }
   ],
   "source": [
    "e1.__dict__"
   ]
  },
  {
   "cell_type": "markdown",
   "id": "annual-electric",
   "metadata": {},
   "source": [
    "# Regular Methods, Class Methods and Static Methods"
   ]
  },
  {
   "cell_type": "code",
   "execution_count": 50,
   "id": "impressive-titanium",
   "metadata": {},
   "outputs": [],
   "source": [
    "class Employee:\n",
    "    raise_amount = 1.04\n",
    "    num_of_emps = 0\n",
    "    \n",
    "    def __init__(self, first, last, pay):\n",
    "        self.first = first\n",
    "        self.last = last\n",
    "        self.pay = pay\n",
    "        self.email = first + '.' + last + '@codingblocks.com'\n",
    "        \n",
    "        Employee.num_of_emps += 1\n",
    "    \n",
    "    def fullname(self):\n",
    "        return \"{} {}\".format(self.first, self.last)\n",
    "    \n",
    "    def apply_raise(self):\n",
    "        self.pay = self.pay * self.raise_amount\n",
    "        \n",
    "    @classmethod # Decorators\n",
    "    def set_raise(cls,amount): #cls--> Employee, amount-->1.4\n",
    "        cls.raise_amount = amount\n",
    "    \n",
    "    "
   ]
  },
  {
   "cell_type": "code",
   "execution_count": 51,
   "id": "roman-birth",
   "metadata": {},
   "outputs": [],
   "source": [
    "e1 = Employee(\"Rishabh\",\"Shekhar\",10000)\n",
    "e2 = Employee(\"Aakash\",\"Gupta\",20000)"
   ]
  },
  {
   "cell_type": "code",
   "execution_count": 52,
   "id": "scientific-diana",
   "metadata": {},
   "outputs": [
    {
     "name": "stdout",
     "output_type": "stream",
     "text": [
      "1.1\n"
     ]
    }
   ],
   "source": [
    "Employee.raise_amount = 1.10\n",
    "print(Employee.raise_amount)"
   ]
  },
  {
   "cell_type": "code",
   "execution_count": 58,
   "id": "convenient-latino",
   "metadata": {},
   "outputs": [],
   "source": [
    "Employee.set_raise(1.5)"
   ]
  },
  {
   "cell_type": "code",
   "execution_count": 59,
   "id": "circular-earth",
   "metadata": {},
   "outputs": [
    {
     "name": "stdout",
     "output_type": "stream",
     "text": [
      "1.5\n"
     ]
    }
   ],
   "source": [
    "print(Employee.raise_amount)"
   ]
  },
  {
   "cell_type": "code",
   "execution_count": 62,
   "id": "coordinate-bottom",
   "metadata": {},
   "outputs": [],
   "source": [
    "Employee.apply_raise(e1)"
   ]
  },
  {
   "cell_type": "code",
   "execution_count": null,
   "id": "lovely-forum",
   "metadata": {},
   "outputs": [],
   "source": [
    "e1.apply_raise()"
   ]
  },
  {
   "cell_type": "code",
   "execution_count": 63,
   "id": "motivated-johnson",
   "metadata": {},
   "outputs": [],
   "source": [
    "e1.set_raise(1.4)"
   ]
  },
  {
   "cell_type": "code",
   "execution_count": 64,
   "id": "detected-constitution",
   "metadata": {},
   "outputs": [
    {
     "name": "stdout",
     "output_type": "stream",
     "text": [
      "1.4\n"
     ]
    }
   ],
   "source": [
    "print(Employee.raise_amount)"
   ]
  },
  {
   "cell_type": "code",
   "execution_count": null,
   "id": "pediatric-wells",
   "metadata": {},
   "outputs": [],
   "source": [
    "Employee.raise_amount = 1.9"
   ]
  },
  {
   "cell_type": "code",
   "execution_count": 97,
   "id": "entire-retro",
   "metadata": {},
   "outputs": [],
   "source": [
    "class Employee:\n",
    "    raise_amount = 1.04\n",
    "    num_of_emps = 0\n",
    "    \n",
    "    def __init__(self, first, last, pay):\n",
    "        self.first = first\n",
    "        self.last = last\n",
    "        self.pay = pay\n",
    "        self.email = first + '.' + last + '@codingblocks.com'\n",
    "        \n",
    "        Employee.num_of_emps += 1\n",
    "    \n",
    "    def fullname(self):\n",
    "        return \"{} {}\".format(self.first, self.last)\n",
    "    \n",
    "    def apply_raise(self):\n",
    "        self.pay = self.pay * self.raise_amount\n",
    "        \n",
    "    @classmethod # Decorators\n",
    "    def set_raise(cls,amount): #cls--> Employee, amount-->1.4\n",
    "        cls.raise_amount = amount\n",
    "        \n",
    "    @classmethod\n",
    "    def from_str(cls,emp_str):\n",
    "        first,last,pay = emp_str.split(\"-\")\n",
    "        return cls(first, last, pay)\n",
    "    \n",
    "    @staticmethod\n",
    "    def is_workday(day):\n",
    "        if day.weekday() == 5 or day.weekday() == 6:\n",
    "            return False\n",
    "        return True\n",
    "    "
   ]
  },
  {
   "cell_type": "code",
   "execution_count": 98,
   "id": "amateur-conspiracy",
   "metadata": {},
   "outputs": [],
   "source": [
    "emp_str_1 = \"Rishabh-Shekhar-1000\"\n",
    "emp_str_2 = \"Aakash-Gupta-20000\"\n",
    "\n",
    "# first,last,pay = emp_str_1.split(\"-\")"
   ]
  },
  {
   "cell_type": "code",
   "execution_count": 99,
   "id": "angry-posting",
   "metadata": {},
   "outputs": [],
   "source": [
    "a = \"Hello-World-hey\"\n",
    "h,w,p = a.split(\"-\")"
   ]
  },
  {
   "cell_type": "code",
   "execution_count": 100,
   "id": "initial-lucas",
   "metadata": {},
   "outputs": [
    {
     "name": "stdout",
     "output_type": "stream",
     "text": [
      "Hello\n",
      "World\n",
      "hey\n"
     ]
    }
   ],
   "source": [
    "print(h)\n",
    "print(w)\n",
    "print(p)"
   ]
  },
  {
   "cell_type": "code",
   "execution_count": 101,
   "id": "developmental-african",
   "metadata": {},
   "outputs": [
    {
     "name": "stdout",
     "output_type": "stream",
     "text": [
      "Rishabh Shekhar 1000\n"
     ]
    }
   ],
   "source": [
    "print(first, last, pay)"
   ]
  },
  {
   "cell_type": "code",
   "execution_count": 102,
   "id": "sustainable-council",
   "metadata": {},
   "outputs": [],
   "source": [
    "new_emp_1 = Employee(first, last, pay)"
   ]
  },
  {
   "cell_type": "code",
   "execution_count": 103,
   "id": "sound-brighton",
   "metadata": {},
   "outputs": [
    {
     "data": {
      "text/plain": [
       "'Rishabh Shekhar'"
      ]
     },
     "execution_count": 103,
     "metadata": {},
     "output_type": "execute_result"
    }
   ],
   "source": [
    "new_emp_1.fullname()"
   ]
  },
  {
   "cell_type": "code",
   "execution_count": 104,
   "id": "addressed-event",
   "metadata": {},
   "outputs": [],
   "source": [
    "new_emp_1 = Employee.from_str(emp_str_1)"
   ]
  },
  {
   "cell_type": "code",
   "execution_count": 105,
   "id": "dutch-workstation",
   "metadata": {},
   "outputs": [
    {
     "data": {
      "text/plain": [
       "'Rishabh.Shekhar@codingblocks.com'"
      ]
     },
     "execution_count": 105,
     "metadata": {},
     "output_type": "execute_result"
    }
   ],
   "source": [
    "new_emp_1.email"
   ]
  },
  {
   "cell_type": "code",
   "execution_count": 110,
   "id": "overall-starter",
   "metadata": {},
   "outputs": [
    {
     "name": "stdout",
     "output_type": "stream",
     "text": [
      "False\n"
     ]
    }
   ],
   "source": [
    "import datetime\n",
    "my_date = datetime.date(2021, 2, 6)\n",
    "print(new_emp_1.is_workday(my_date))"
   ]
  },
  {
   "cell_type": "code",
   "execution_count": 107,
   "id": "jewish-appointment",
   "metadata": {},
   "outputs": [],
   "source": [
    "# Monday = 0\n",
    "# Tuesday = 1\n",
    "# Saturday = 5\n",
    "# Sunday = 6"
   ]
  },
  {
   "cell_type": "code",
   "execution_count": 108,
   "id": "further-denial",
   "metadata": {},
   "outputs": [],
   "source": [
    "# pygame\n",
    "# flask\n",
    "# pandas"
   ]
  },
  {
   "cell_type": "code",
   "execution_count": null,
   "id": "secret-lingerie",
   "metadata": {},
   "outputs": [],
   "source": []
  },
  {
   "cell_type": "markdown",
   "id": "engaged-recommendation",
   "metadata": {},
   "source": [
    "# Inheritance"
   ]
  },
  {
   "cell_type": "code",
   "execution_count": 205,
   "id": "corporate-fashion",
   "metadata": {},
   "outputs": [],
   "source": [
    "class Employee:\n",
    "    raise_amount = 1.04\n",
    "    num_of_emps = 0\n",
    "    \n",
    "    def __init__(self, first, last, pay):\n",
    "        self.first = first\n",
    "        self.last = last\n",
    "        self.pay = pay\n",
    "        self.email = first + '.' + last + '@codingblocks.com'\n",
    "        \n",
    "        Employee.num_of_emps += 1\n",
    "    \n",
    "    def fullname(self):\n",
    "        return \"{} {}\".format(self.first, self.last)\n",
    "    \n",
    "    def apply_raise(self):\n",
    "        self.pay = self.pay * self.raise_amount\n",
    "\n",
    "class Developer(Employee):\n",
    "    \n",
    "    def __init__(self, first, last, pay, prog):\n",
    "        super().__init__(first, last, pay)\n",
    "#         Employee.__init__(self,first,last,pay)\n",
    "        self.prog = prog"
   ]
  },
  {
   "cell_type": "code",
   "execution_count": 138,
   "id": "loving-pixel",
   "metadata": {},
   "outputs": [
    {
     "ename": "TypeError",
     "evalue": "__init__() takes 4 positional arguments but 5 were given",
     "output_type": "error",
     "traceback": [
      "\u001b[0;31m---------------------------------------------------------------------------\u001b[0m",
      "\u001b[0;31mTypeError\u001b[0m                                 Traceback (most recent call last)",
      "\u001b[0;32m<ipython-input-138-761121cc600c>\u001b[0m in \u001b[0;36m<module>\u001b[0;34m\u001b[0m\n\u001b[0;32m----> 1\u001b[0;31m \u001b[0md1\u001b[0m \u001b[0;34m=\u001b[0m \u001b[0mEmployee\u001b[0m\u001b[0;34m(\u001b[0m\u001b[0;34m\"Rishabh\"\u001b[0m\u001b[0;34m,\u001b[0m\u001b[0;34m\"Shekhar\"\u001b[0m\u001b[0;34m,\u001b[0m\u001b[0;36m10000\u001b[0m\u001b[0;34m,\u001b[0m\u001b[0;34m\"gfhhyewdc\"\u001b[0m\u001b[0;34m)\u001b[0m\u001b[0;34m\u001b[0m\u001b[0;34m\u001b[0m\u001b[0m\n\u001b[0m\u001b[1;32m      2\u001b[0m \u001b[0md2\u001b[0m \u001b[0;34m=\u001b[0m \u001b[0mDeveloper\u001b[0m\u001b[0;34m(\u001b[0m\u001b[0;34m\"Aakash\"\u001b[0m\u001b[0;34m,\u001b[0m\u001b[0;34m\"Gupta\"\u001b[0m\u001b[0;34m,\u001b[0m\u001b[0;36m20000\u001b[0m\u001b[0;34m,\u001b[0m\u001b[0;34m\"Java\"\u001b[0m\u001b[0;34m)\u001b[0m\u001b[0;34m\u001b[0m\u001b[0;34m\u001b[0m\u001b[0m\n",
      "\u001b[0;31mTypeError\u001b[0m: __init__() takes 4 positional arguments but 5 were given"
     ]
    }
   ],
   "source": [
    "d1 = Employee(\"Rishabh\",\"Shekhar\",10000,\"gfhhyewdc\")\n",
    "d2 = Developer(\"Aakash\",\"Gupta\",20000,\"Java\")"
   ]
  },
  {
   "cell_type": "code",
   "execution_count": 130,
   "id": "answering-polish",
   "metadata": {},
   "outputs": [
    {
     "data": {
      "text/plain": [
       "'Rishabh Shekhar'"
      ]
     },
     "execution_count": 130,
     "metadata": {},
     "output_type": "execute_result"
    }
   ],
   "source": [
    "d1.fullname()"
   ]
  },
  {
   "cell_type": "code",
   "execution_count": 131,
   "id": "alone-disabled",
   "metadata": {},
   "outputs": [
    {
     "data": {
      "text/plain": [
       "'Aakash.Gupta@codingblocks.com'"
      ]
     },
     "execution_count": 131,
     "metadata": {},
     "output_type": "execute_result"
    }
   ],
   "source": [
    "d2.email"
   ]
  },
  {
   "cell_type": "code",
   "execution_count": 132,
   "id": "organizational-kenya",
   "metadata": {},
   "outputs": [
    {
     "name": "stdout",
     "output_type": "stream",
     "text": [
      "Help on class Developer in module __main__:\n",
      "\n",
      "class Developer(Employee)\n",
      " |  Developer(first, last, pay, prog)\n",
      " |  \n",
      " |  Method resolution order:\n",
      " |      Developer\n",
      " |      Employee\n",
      " |      builtins.object\n",
      " |  \n",
      " |  Methods defined here:\n",
      " |  \n",
      " |  __init__(self, first, last, pay, prog)\n",
      " |      Initialize self.  See help(type(self)) for accurate signature.\n",
      " |  \n",
      " |  ----------------------------------------------------------------------\n",
      " |  Methods inherited from Employee:\n",
      " |  \n",
      " |  apply_raise(self)\n",
      " |  \n",
      " |  fullname(self)\n",
      " |  \n",
      " |  ----------------------------------------------------------------------\n",
      " |  Data descriptors inherited from Employee:\n",
      " |  \n",
      " |  __dict__\n",
      " |      dictionary for instance variables (if defined)\n",
      " |  \n",
      " |  __weakref__\n",
      " |      list of weak references to the object (if defined)\n",
      " |  \n",
      " |  ----------------------------------------------------------------------\n",
      " |  Data and other attributes inherited from Employee:\n",
      " |  \n",
      " |  num_of_emps = 2\n",
      " |  \n",
      " |  raise_amount = 1.04\n",
      "\n",
      "None\n"
     ]
    }
   ],
   "source": [
    "print(help(Developer))"
   ]
  },
  {
   "cell_type": "code",
   "execution_count": 133,
   "id": "advanced-childhood",
   "metadata": {},
   "outputs": [],
   "source": [
    "d2.apply_raise()"
   ]
  },
  {
   "cell_type": "code",
   "execution_count": 134,
   "id": "harmful-reporter",
   "metadata": {},
   "outputs": [
    {
     "data": {
      "text/plain": [
       "20800.0"
      ]
     },
     "execution_count": 134,
     "metadata": {},
     "output_type": "execute_result"
    }
   ],
   "source": [
    "d2.pay"
   ]
  },
  {
   "cell_type": "code",
   "execution_count": 135,
   "id": "static-nickname",
   "metadata": {},
   "outputs": [
    {
     "data": {
      "text/plain": [
       "'Python'"
      ]
     },
     "execution_count": 135,
     "metadata": {},
     "output_type": "execute_result"
    }
   ],
   "source": [
    "d1.prog"
   ]
  },
  {
   "cell_type": "code",
   "execution_count": 143,
   "id": "tired-provider",
   "metadata": {},
   "outputs": [
    {
     "name": "stdout",
     "output_type": "stream",
     "text": [
      "1.04\n"
     ]
    }
   ],
   "source": [
    "print(Employee.raise_amount)"
   ]
  },
  {
   "cell_type": "code",
   "execution_count": 140,
   "id": "thousand-plastic",
   "metadata": {},
   "outputs": [
    {
     "name": "stdout",
     "output_type": "stream",
     "text": [
      "1.04\n"
     ]
    }
   ],
   "source": [
    "print(Developer.raise_amount)"
   ]
  },
  {
   "cell_type": "code",
   "execution_count": 141,
   "id": "official-police",
   "metadata": {},
   "outputs": [],
   "source": [
    "Developer.raise_amount = 1.5"
   ]
  },
  {
   "cell_type": "code",
   "execution_count": 142,
   "id": "thrown-stress",
   "metadata": {},
   "outputs": [
    {
     "name": "stdout",
     "output_type": "stream",
     "text": [
      "Help on class Developer in module __main__:\n",
      "\n",
      "class Developer(Employee)\n",
      " |  Developer(first, last, pay, prog)\n",
      " |  \n",
      " |  Method resolution order:\n",
      " |      Developer\n",
      " |      Employee\n",
      " |      builtins.object\n",
      " |  \n",
      " |  Methods defined here:\n",
      " |  \n",
      " |  __init__(self, first, last, pay, prog)\n",
      " |      Initialize self.  See help(type(self)) for accurate signature.\n",
      " |  \n",
      " |  ----------------------------------------------------------------------\n",
      " |  Data and other attributes defined here:\n",
      " |  \n",
      " |  raise_amount = 1.5\n",
      " |  \n",
      " |  ----------------------------------------------------------------------\n",
      " |  Methods inherited from Employee:\n",
      " |  \n",
      " |  apply_raise(self)\n",
      " |  \n",
      " |  fullname(self)\n",
      " |  \n",
      " |  ----------------------------------------------------------------------\n",
      " |  Data descriptors inherited from Employee:\n",
      " |  \n",
      " |  __dict__\n",
      " |      dictionary for instance variables (if defined)\n",
      " |  \n",
      " |  __weakref__\n",
      " |      list of weak references to the object (if defined)\n",
      " |  \n",
      " |  ----------------------------------------------------------------------\n",
      " |  Data and other attributes inherited from Employee:\n",
      " |  \n",
      " |  num_of_emps = 0\n",
      "\n",
      "None\n"
     ]
    }
   ],
   "source": [
    "print(help(Developer))"
   ]
  },
  {
   "cell_type": "code",
   "execution_count": 148,
   "id": "related-battlefield",
   "metadata": {},
   "outputs": [],
   "source": [
    "#Hiearchial Inheritance\n",
    "class Employee:\n",
    "    raise_amount = 1.04\n",
    "    num_of_emps = 0\n",
    "    \n",
    "    def __init__(self, first, last, pay):\n",
    "        self.first = first\n",
    "        self.last = last\n",
    "        self.pay = pay\n",
    "        self.email = first + '.' + last + '@codingblocks.com'\n",
    "        \n",
    "        Employee.num_of_emps += 1\n",
    "    \n",
    "    def fullname(self):\n",
    "        return \"{} {}\".format(self.first, self.last)\n",
    "    \n",
    "    def apply_raise(self):\n",
    "        self.pay = self.pay * self.raise_amount\n",
    "\n",
    "class Developer(Employee):\n",
    "    \n",
    "    raise_amount = 1.10\n",
    "    \n",
    "    def __init__(self, first, last, pay, prog):\n",
    "        super().__init__(first, last, pay)\n",
    "#         Employee.__init__(self,first,last,pay)\n",
    "        self.prog = prog\n",
    "\n",
    "class Manager(Employee):\n",
    "    \n",
    "    def __init__(self, first, last, pay, emps=None):\n",
    "        super().__init__(first, last, pay)\n",
    "        if emps == None:\n",
    "            self.emps = []\n",
    "        else:\n",
    "            self.emps = emps\n",
    "    \n",
    "    def add_emp(self, emp):\n",
    "        if emp not in self.emps:\n",
    "            self.emps.append(emp)\n",
    "            \n",
    "    def remove_emp(self, emp):\n",
    "        if emp in self.emps:\n",
    "            self.emps.remove(emp)\n",
    "    \n",
    "    def print_emps(self):\n",
    "        for em in self.emps:\n",
    "            print(em.fullname())"
   ]
  },
  {
   "cell_type": "code",
   "execution_count": 161,
   "id": "comparable-productivity",
   "metadata": {},
   "outputs": [],
   "source": [
    "e1 = Employee(\"Rishabh\",\"Shekhar\",10000)\n",
    "e2 = Employee(\"Aakash\",\"Gupta\",20000)\n",
    "\n",
    "d1 = Developer(\"Amit\",\"Singh\",30000,\"Python\")\n",
    "\n",
    "\n",
    "m1 = Manager(\"Sarthak\",\"Bisht\",30000,[e1])\n",
    "m2 = Manager(\"Piyush\",\"Gupta\",50000)"
   ]
  },
  {
   "cell_type": "code",
   "execution_count": 162,
   "id": "casual-reproduction",
   "metadata": {},
   "outputs": [
    {
     "name": "stdout",
     "output_type": "stream",
     "text": [
      "Rishabh Shekhar\n"
     ]
    }
   ],
   "source": [
    "m1.print_emps()"
   ]
  },
  {
   "cell_type": "code",
   "execution_count": 163,
   "id": "square-auckland",
   "metadata": {},
   "outputs": [],
   "source": [
    "m1.add_emp(e2)"
   ]
  },
  {
   "cell_type": "code",
   "execution_count": 164,
   "id": "hungry-class",
   "metadata": {},
   "outputs": [
    {
     "name": "stdout",
     "output_type": "stream",
     "text": [
      "Rishabh Shekhar\n",
      "Aakash Gupta\n"
     ]
    }
   ],
   "source": [
    "m1.print_emps()"
   ]
  },
  {
   "cell_type": "code",
   "execution_count": 165,
   "id": "inclusive-reliance",
   "metadata": {},
   "outputs": [],
   "source": [
    "m1.remove_emp(e1)"
   ]
  },
  {
   "cell_type": "code",
   "execution_count": 166,
   "id": "requested-basic",
   "metadata": {},
   "outputs": [
    {
     "name": "stdout",
     "output_type": "stream",
     "text": [
      "Aakash Gupta\n"
     ]
    }
   ],
   "source": [
    "m1.print_emps()"
   ]
  },
  {
   "cell_type": "code",
   "execution_count": 167,
   "id": "charged-hanging",
   "metadata": {},
   "outputs": [],
   "source": [
    "m2.print_emps()"
   ]
  },
  {
   "cell_type": "code",
   "execution_count": 168,
   "id": "organizational-lounge",
   "metadata": {},
   "outputs": [],
   "source": [
    "m2.add_emp(e1)"
   ]
  },
  {
   "cell_type": "code",
   "execution_count": 169,
   "id": "important-material",
   "metadata": {},
   "outputs": [
    {
     "name": "stdout",
     "output_type": "stream",
     "text": [
      "Rishabh Shekhar\n"
     ]
    }
   ],
   "source": [
    "m2.print_emps()\n"
   ]
  },
  {
   "cell_type": "code",
   "execution_count": 170,
   "id": "charitable-fireplace",
   "metadata": {},
   "outputs": [],
   "source": [
    "m1.add_emp(d1)"
   ]
  },
  {
   "cell_type": "code",
   "execution_count": 171,
   "id": "desperate-treat",
   "metadata": {},
   "outputs": [
    {
     "name": "stdout",
     "output_type": "stream",
     "text": [
      "Aakash Gupta\n",
      "Amit Singh\n"
     ]
    }
   ],
   "source": [
    "m1.print_emps()"
   ]
  },
  {
   "cell_type": "markdown",
   "id": "religious-addition",
   "metadata": {},
   "source": [
    "# Types Of Inheritance\n",
    "- Single\n",
    "- Multiple\n",
    "- Multilevel\n",
    "- Hiearchial\n",
    "- Hybrid"
   ]
  },
  {
   "cell_type": "code",
   "execution_count": 177,
   "id": "robust-maple",
   "metadata": {},
   "outputs": [
    {
     "name": "stdout",
     "output_type": "stream",
     "text": [
      "True\n",
      "False\n",
      "True\n",
      "False\n",
      "False\n"
     ]
    }
   ],
   "source": [
    "print(isinstance(e1,Employee))\n",
    "print(isinstance(m1,Developer))\n",
    "print(isinstance(m1,Employee))\n",
    "print(isinstance(d1,Manager))\n",
    "print(isinstance(e1,Manager))"
   ]
  },
  {
   "cell_type": "code",
   "execution_count": 179,
   "id": "abroad-ghost",
   "metadata": {},
   "outputs": [
    {
     "name": "stdout",
     "output_type": "stream",
     "text": [
      "True\n",
      "False\n"
     ]
    }
   ],
   "source": [
    "print(issubclass(Developer, Employee))\n",
    "print(issubclass(Developer, Manager))"
   ]
  },
  {
   "cell_type": "code",
   "execution_count": 206,
   "id": "sealed-satisfaction",
   "metadata": {},
   "outputs": [
    {
     "name": "stdout",
     "output_type": "stream",
     "text": [
      "Rishabh Shekhar\n"
     ]
    }
   ],
   "source": [
    "# Assignment Multiple, Multilevel and Hybrid"
   ]
  },
  {
   "cell_type": "markdown",
   "id": "attended-wealth",
   "metadata": {},
   "source": [
    "# Dunder Methods"
   ]
  },
  {
   "cell_type": "code",
   "execution_count": 238,
   "id": "aware-lambda",
   "metadata": {},
   "outputs": [],
   "source": [
    "class Employee:\n",
    "    raise_amount = 1.04\n",
    "    def __init__(self, first, last, pay):\n",
    "        self.first = first\n",
    "        self.last = last\n",
    "        self.pay = pay\n",
    "        self.email = first + '.' + last + '@codingblocks.com'\n",
    "    \n",
    "    def fullname(self):\n",
    "        return \"{} {}\".format(self.first, self.last)\n",
    "    \n",
    "    def apply_raise(self):\n",
    "        self.pay = self.pay * self.raise_amount\n",
    "    \n",
    "    def __repr__(self): #Debugging\n",
    "        return \"Emplyee('{}','{}','{}')\".format(self.first, self.last, self.pay)\n",
    "    \n",
    "    def __str__(self):\n",
    "        return \"{}\".format(self.fullname())\n",
    "    \n",
    "    def __add__(self, other):\n",
    "        return self.pay + other.pay\n",
    "    \n",
    "    def __len__(self):\n",
    "        return len(self.fullname())\n",
    "    "
   ]
  },
  {
   "cell_type": "code",
   "execution_count": 239,
   "id": "arabic-albania",
   "metadata": {},
   "outputs": [],
   "source": [
    "e1 = Employee(\"Rishabh\",\"Shekhar\",10000)\n",
    "e2 = Employee(\"Aakash\",\"Gupta\",20000)"
   ]
  },
  {
   "cell_type": "code",
   "execution_count": 240,
   "id": "obvious-ceiling",
   "metadata": {},
   "outputs": [
    {
     "name": "stdout",
     "output_type": "stream",
     "text": [
      "5\n",
      "ab\n"
     ]
    }
   ],
   "source": [
    "print(2+3)\n",
    "print(\"a\"+\"b\")"
   ]
  },
  {
   "cell_type": "code",
   "execution_count": 241,
   "id": "positive-halifax",
   "metadata": {},
   "outputs": [
    {
     "name": "stdout",
     "output_type": "stream",
     "text": [
      "5\n"
     ]
    }
   ],
   "source": [
    "print(int.__add__(2,3))"
   ]
  },
  {
   "cell_type": "code",
   "execution_count": 242,
   "id": "romantic-skirt",
   "metadata": {},
   "outputs": [
    {
     "ename": "SyntaxError",
     "evalue": "invalid syntax (<ipython-input-242-0ea6cedeb08e>, line 1)",
     "output_type": "error",
     "traceback": [
      "\u001b[0;36m  File \u001b[0;32m\"<ipython-input-242-0ea6cedeb08e>\"\u001b[0;36m, line \u001b[0;32m1\u001b[0m\n\u001b[0;31m    print(str.__add__(\"a\",\"b\")) \"+\"\u001b[0m\n\u001b[0m                                  ^\u001b[0m\n\u001b[0;31mSyntaxError\u001b[0m\u001b[0;31m:\u001b[0m invalid syntax\n"
     ]
    }
   ],
   "source": [
    "print(str.__add__(\"a\",\"b\")) \"+\""
   ]
  },
  {
   "cell_type": "code",
   "execution_count": 243,
   "id": "genetic-costs",
   "metadata": {},
   "outputs": [
    {
     "name": "stdout",
     "output_type": "stream",
     "text": [
      "Rishabh Shekhar\n"
     ]
    }
   ],
   "source": [
    "print(e1)"
   ]
  },
  {
   "cell_type": "code",
   "execution_count": 244,
   "id": "ignored-elements",
   "metadata": {},
   "outputs": [
    {
     "name": "stdout",
     "output_type": "stream",
     "text": [
      "Emplyee('Rishabh','Shekhar','10000')\n"
     ]
    }
   ],
   "source": [
    "print(repr(e1))"
   ]
  },
  {
   "cell_type": "code",
   "execution_count": 245,
   "id": "provincial-graph",
   "metadata": {},
   "outputs": [
    {
     "data": {
      "text/plain": [
       "30000"
      ]
     },
     "execution_count": 245,
     "metadata": {},
     "output_type": "execute_result"
    }
   ],
   "source": [
    "e1+e2"
   ]
  },
  {
   "cell_type": "code",
   "execution_count": 246,
   "id": "printable-yellow",
   "metadata": {},
   "outputs": [
    {
     "data": {
      "text/plain": [
       "30000"
      ]
     },
     "execution_count": 246,
     "metadata": {},
     "output_type": "execute_result"
    }
   ],
   "source": [
    "e1 + e2"
   ]
  },
  {
   "cell_type": "code",
   "execution_count": 247,
   "id": "certain-thought",
   "metadata": {},
   "outputs": [
    {
     "data": {
      "text/plain": [
       "4"
      ]
     },
     "execution_count": 247,
     "metadata": {},
     "output_type": "execute_result"
    }
   ],
   "source": [
    "a = \"test\"\n",
    "len(a)"
   ]
  },
  {
   "cell_type": "code",
   "execution_count": 248,
   "id": "moderate-organ",
   "metadata": {},
   "outputs": [
    {
     "data": {
      "text/plain": [
       "4"
      ]
     },
     "execution_count": 248,
     "metadata": {},
     "output_type": "execute_result"
    }
   ],
   "source": [
    "\"test\".__len__()"
   ]
  },
  {
   "cell_type": "code",
   "execution_count": 249,
   "id": "liquid-emission",
   "metadata": {},
   "outputs": [
    {
     "data": {
      "text/plain": [
       "15"
      ]
     },
     "execution_count": 249,
     "metadata": {},
     "output_type": "execute_result"
    }
   ],
   "source": [
    "len(e1)"
   ]
  },
  {
   "cell_type": "code",
   "execution_count": 250,
   "id": "tracked-bidding",
   "metadata": {},
   "outputs": [
    {
     "data": {
      "text/plain": [
       "'Hospital Management\\nLibrary Management\\n'"
      ]
     },
     "execution_count": 250,
     "metadata": {},
     "output_type": "execute_result"
    }
   ],
   "source": [
    "'''Hospital Management\n",
    "Library Management\n",
    "'''\n"
   ]
  },
  {
   "cell_type": "markdown",
   "id": "cleared-tactics",
   "metadata": {},
   "source": [
    "# Questions"
   ]
  },
  {
   "cell_type": "markdown",
   "id": "falling-finding",
   "metadata": {},
   "source": [
    "### Pallindrome"
   ]
  },
  {
   "cell_type": "code",
   "execution_count": 251,
   "id": "complicated-toronto",
   "metadata": {},
   "outputs": [],
   "source": [
    "# madam Malayalam mom Nitin radar 12321 9999 1221\n"
   ]
  },
  {
   "cell_type": "code",
   "execution_count": 260,
   "id": "needed-korea",
   "metadata": {},
   "outputs": [],
   "source": [
    "def is_pld(s):\n",
    "    if s == s[::-1]:\n",
    "        return True\n",
    "    return False"
   ]
  },
  {
   "cell_type": "code",
   "execution_count": 261,
   "id": "opponent-faculty",
   "metadata": {},
   "outputs": [
    {
     "name": "stdout",
     "output_type": "stream",
     "text": [
      "delhi\n"
     ]
    }
   ],
   "source": [
    "st = input()"
   ]
  },
  {
   "cell_type": "code",
   "execution_count": 262,
   "id": "stylish-teddy",
   "metadata": {},
   "outputs": [
    {
     "data": {
      "text/plain": [
       "False"
      ]
     },
     "execution_count": 262,
     "metadata": {},
     "output_type": "execute_result"
    }
   ],
   "source": [
    "is_pld(st)"
   ]
  },
  {
   "cell_type": "code",
   "execution_count": 254,
   "id": "asian-courage",
   "metadata": {},
   "outputs": [
    {
     "data": {
      "text/plain": [
       "'madam'"
      ]
     },
     "execution_count": 254,
     "metadata": {},
     "output_type": "execute_result"
    }
   ],
   "source": [
    "st[::-1]"
   ]
  },
  {
   "cell_type": "markdown",
   "id": "preliminary-consultation",
   "metadata": {},
   "source": [
    "### Armstrong Number"
   ]
  },
  {
   "cell_type": "markdown",
   "id": "environmental-mobility",
   "metadata": {},
   "source": [
    "153 = 1^3 + 5^3 + 3^3\n",
    "\n",
    "12345 = 1^5 + 2^5 + 3^5 + 4^5 + 5^5"
   ]
  },
  {
   "cell_type": "code",
   "execution_count": 3,
   "id": "first-beaver",
   "metadata": {},
   "outputs": [],
   "source": [
    "def is_arms(n):\n",
    "    n = str(n)\n",
    "    pw = len(n)\n",
    "    res = 0\n",
    "    for i in n:\n",
    "        res+=int(i)**pw\n",
    "    if res == int(n):\n",
    "        return True\n",
    "    return False"
   ]
  },
  {
   "cell_type": "code",
   "execution_count": 5,
   "id": "golden-diana",
   "metadata": {},
   "outputs": [
    {
     "name": "stdout",
     "output_type": "stream",
     "text": [
      "12345\n"
     ]
    },
    {
     "data": {
      "text/plain": [
       "False"
      ]
     },
     "execution_count": 5,
     "metadata": {},
     "output_type": "execute_result"
    }
   ],
   "source": [
    "n = int(input())\n",
    "is_arms(n)"
   ]
  },
  {
   "cell_type": "code",
   "execution_count": null,
   "id": "abroad-awareness",
   "metadata": {},
   "outputs": [],
   "source": [
    "1234 "
   ]
  }
 ],
 "metadata": {
  "kernelspec": {
   "display_name": "Python 3",
   "language": "python",
   "name": "python3"
  }
 },
 "nbformat": 4,
 "nbformat_minor": 5
}
