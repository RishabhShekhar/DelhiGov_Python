{
 "cells": [
  {
   "cell_type": "markdown",
   "id": "significant-silicon",
   "metadata": {},
   "source": [
    "# Pallindrome"
   ]
  },
  {
   "cell_type": "code",
   "execution_count": 4,
   "id": "small-formula",
   "metadata": {},
   "outputs": [],
   "source": [
    "def is_palindrome(s):\n",
    "    ss = str(s)\n",
    "    if ss == ss[::-1]: return True\n",
    "    return False"
   ]
  },
  {
   "cell_type": "code",
   "execution_count": 8,
   "id": "stainless-phenomenon",
   "metadata": {},
   "outputs": [
    {
     "name": "stdout",
     "output_type": "stream",
     "text": [
      "True\n"
     ]
    }
   ],
   "source": [
    "print(is_palindrome(\"madam\"))"
   ]
  },
  {
   "cell_type": "markdown",
   "id": "appropriate-narrow",
   "metadata": {},
   "source": [
    "# Armstrong Number"
   ]
  },
  {
   "cell_type": "code",
   "execution_count": 9,
   "id": "fatal-wonder",
   "metadata": {},
   "outputs": [],
   "source": [
    "def is_armstrong(n):\n",
    "    sn = str(n)\n",
    "    ln = len(sn)\n",
    "    \n",
    "    t = 0\n",
    "    for i in sn:\n",
    "        t += int(i)**ln\n",
    "        \n",
    "    if t==n:\n",
    "        return True\n",
    "    return False"
   ]
  },
  {
   "cell_type": "code",
   "execution_count": 10,
   "id": "indian-massachusetts",
   "metadata": {},
   "outputs": [
    {
     "name": "stdout",
     "output_type": "stream",
     "text": [
      "True\n"
     ]
    }
   ],
   "source": [
    "print(is_armstrong(371))"
   ]
  },
  {
   "cell_type": "markdown",
   "id": "simplified-phase",
   "metadata": {},
   "source": [
    "# Difference of two list with same no. of elements"
   ]
  },
  {
   "cell_type": "code",
   "execution_count": 11,
   "id": "challenging-modem",
   "metadata": {},
   "outputs": [],
   "source": [
    "l1 = [10,2,3,4,5]\n",
    "l2 = [9,1,2,1,4]"
   ]
  },
  {
   "cell_type": "code",
   "execution_count": 13,
   "id": "opened-swing",
   "metadata": {},
   "outputs": [
    {
     "name": "stdout",
     "output_type": "stream",
     "text": [
      "[1, 1, 1, 3, 1]\n"
     ]
    }
   ],
   "source": [
    "l3 = []\n",
    "for i in range(len(l1)):\n",
    "    l3.append(l1[i]-l2[i])\n",
    "print(l3)"
   ]
  },
  {
   "cell_type": "markdown",
   "id": "reverse-medicine",
   "metadata": {},
   "source": [
    "# Difference of two list with different no. of elements"
   ]
  },
  {
   "cell_type": "code",
   "execution_count": 14,
   "id": "hazardous-moment",
   "metadata": {},
   "outputs": [],
   "source": [
    "l1 = [10,2,3,4,5,44,42]\n",
    "l2 = [9,1,2,1,4]"
   ]
  },
  {
   "cell_type": "code",
   "execution_count": 15,
   "id": "exotic-dragon",
   "metadata": {},
   "outputs": [],
   "source": [
    "# ll1 = len(l1)\n",
    "# ll2 = len(l2)\n",
    "\n",
    "# if ll1>ll2:\n",
    "#     counter = ll2\n",
    "# else:\n",
    "#     counter = ll1"
   ]
  },
  {
   "cell_type": "code",
   "execution_count": 16,
   "id": "boring-request",
   "metadata": {},
   "outputs": [],
   "source": [
    "counter = min(len(l1),len(l2))"
   ]
  },
  {
   "cell_type": "code",
   "execution_count": 17,
   "id": "jewish-birth",
   "metadata": {},
   "outputs": [
    {
     "name": "stdout",
     "output_type": "stream",
     "text": [
      "[1, 1, 1, 3, 1]\n"
     ]
    }
   ],
   "source": [
    "l3 = []\n",
    "for i in range(counter):\n",
    "    l3.append(l1[i]-l2[i])\n",
    "print(l3)"
   ]
  },
  {
   "cell_type": "markdown",
   "id": "ideal-provider",
   "metadata": {},
   "source": [
    "# Difference of two list with different no. of elements and make -l1"
   ]
  },
  {
   "cell_type": "code",
   "execution_count": 19,
   "id": "differential-beads",
   "metadata": {},
   "outputs": [],
   "source": [
    "l1 = [10,2,3,4,5,44,42]\n",
    "l2 = [9,1,2,1,4]"
   ]
  },
  {
   "cell_type": "code",
   "execution_count": 20,
   "id": "polished-setting",
   "metadata": {},
   "outputs": [],
   "source": [
    "counter = max(len(l1),len(l2))"
   ]
  },
  {
   "cell_type": "code",
   "execution_count": 21,
   "id": "extreme-support",
   "metadata": {},
   "outputs": [
    {
     "name": "stdout",
     "output_type": "stream",
     "text": [
      "[1, 1, 1, 3, 1, -44, -42]\n"
     ]
    }
   ],
   "source": [
    "l3 = []\n",
    "for i in range(counter):\n",
    "    if i>= len(l2):\n",
    "        l3.append(-1*l1[i])\n",
    "    else:\n",
    "        l3.append(l1[i]-l2[i])\n",
    "print(l3)"
   ]
  },
  {
   "cell_type": "markdown",
   "id": "fancy-passport",
   "metadata": {},
   "source": [
    "# Matrix add"
   ]
  },
  {
   "cell_type": "code",
   "execution_count": 61,
   "id": "designing-texture",
   "metadata": {},
   "outputs": [],
   "source": [
    "mat1 = [[1,2,3],[4,5,6],[7,8,9]]"
   ]
  },
  {
   "cell_type": "code",
   "execution_count": 62,
   "id": "aggregate-angel",
   "metadata": {},
   "outputs": [],
   "source": [
    "mat2 = [[10,20,30],[40,20,60],[70,80,90]]"
   ]
  },
  {
   "cell_type": "code",
   "execution_count": 63,
   "id": "eight-shooting",
   "metadata": {},
   "outputs": [],
   "source": [
    "mat3 = []"
   ]
  },
  {
   "cell_type": "code",
   "execution_count": 64,
   "id": "enclosed-mandate",
   "metadata": {},
   "outputs": [],
   "source": [
    "for i in range(len(mat1)):\n",
    "    a = []\n",
    "    for j in range(len(mat1[0])):\n",
    "        a.append(mat1[i][j] + mat2[i][j])\n",
    "    mat3.append(a)"
   ]
  },
  {
   "cell_type": "code",
   "execution_count": 65,
   "id": "green-native",
   "metadata": {},
   "outputs": [
    {
     "name": "stdout",
     "output_type": "stream",
     "text": [
      "[11, 22, 33]\n",
      "[44, 25, 66]\n",
      "[77, 88, 99]\n"
     ]
    }
   ],
   "source": [
    "for i in range(len(mat3)):\n",
    "    print(mat3[i])"
   ]
  },
  {
   "cell_type": "markdown",
   "id": "killing-opposition",
   "metadata": {},
   "source": [
    "# Transpose Matrix"
   ]
  },
  {
   "cell_type": "code",
   "execution_count": 81,
   "id": "studied-miller",
   "metadata": {},
   "outputs": [],
   "source": [
    "mat3_tp = []\n",
    "rows = len(mat3)\n",
    "cols = len(mat3[0])"
   ]
  },
  {
   "cell_type": "code",
   "execution_count": 82,
   "id": "black-steps",
   "metadata": {},
   "outputs": [],
   "source": [
    "for i in range(rows):\n",
    "    a = []\n",
    "    for j in range(cols):\n",
    "        a.append(mat3[j][i])\n",
    "    mat3_tp.append(a)"
   ]
  },
  {
   "cell_type": "code",
   "execution_count": 83,
   "id": "cutting-spouse",
   "metadata": {},
   "outputs": [
    {
     "name": "stdout",
     "output_type": "stream",
     "text": [
      "[11, 44, 77]\n",
      "[22, 25, 88]\n",
      "[33, 66, 99]\n"
     ]
    }
   ],
   "source": [
    "for i in range(len(mat3_tp)):\n",
    "    print(mat3_tp[i])"
   ]
  },
  {
   "cell_type": "markdown",
   "id": "republican-impact",
   "metadata": {},
   "source": [
    "# Matrix Multiplication"
   ]
  },
  {
   "cell_type": "code",
   "execution_count": 21,
   "id": "competent-fleet",
   "metadata": {},
   "outputs": [],
   "source": [
    "mat1 = [[1,2],[4,5]]"
   ]
  },
  {
   "cell_type": "code",
   "execution_count": 22,
   "id": "quick-daily",
   "metadata": {},
   "outputs": [],
   "source": [
    "mat2 = [[10,20],[40,50]]"
   ]
  },
  {
   "cell_type": "code",
   "execution_count": 23,
   "id": "dangerous-stanford",
   "metadata": {},
   "outputs": [],
   "source": [
    "mat3 = [[0,0],[0,0]]"
   ]
  },
  {
   "cell_type": "code",
   "execution_count": 24,
   "id": "packed-sunday",
   "metadata": {},
   "outputs": [
    {
     "name": "stdout",
     "output_type": "stream",
     "text": [
      "[90, 120]\n",
      "[240, 330]\n"
     ]
    }
   ],
   "source": [
    "for i in range(len(mat1)):\n",
    "    for j in range(len(mat[0])):\n",
    "        for k in range(len(mat2)):\n",
    "            mat3[i][j] += mat1[i][k] * mat2[k][j]\n",
    "            \n",
    "for i in range(len(mat3)):\n",
    "    print(mat3[i])"
   ]
  },
  {
   "cell_type": "markdown",
   "id": "geographic-reduction",
   "metadata": {},
   "source": [
    "# Finding Smallest From the list"
   ]
  },
  {
   "cell_type": "code",
   "execution_count": 26,
   "id": "equal-yeast",
   "metadata": {},
   "outputs": [
    {
     "data": {
      "text/plain": [
       "1"
      ]
     },
     "execution_count": 26,
     "metadata": {},
     "output_type": "execute_result"
    }
   ],
   "source": [
    "l = [4,5,6,2,3,9,1]\n",
    "\n",
    "# min(l)\n",
    "\n",
    "# l.sort()\n",
    "# l[0]\n"
   ]
  },
  {
   "cell_type": "code",
   "execution_count": 31,
   "id": "competitive-drill",
   "metadata": {},
   "outputs": [
    {
     "name": "stdout",
     "output_type": "stream",
     "text": [
      "1\n"
     ]
    }
   ],
   "source": [
    "minl = l[0]\n",
    "\n",
    "for i in range(1,len(l)):\n",
    "    if l[i] < minl:\n",
    "        minl = l[i]\n",
    "print(minl)"
   ]
  },
  {
   "cell_type": "markdown",
   "id": "metallic-england",
   "metadata": {},
   "source": [
    "# Finding Largest From the list"
   ]
  },
  {
   "cell_type": "code",
   "execution_count": 32,
   "id": "straight-setting",
   "metadata": {},
   "outputs": [],
   "source": [
    "l = [4,5,6,2,3,9,1]\n",
    "\n",
    "# min(l)\n",
    "\n",
    "# l.sort()\n",
    "# l[-1]"
   ]
  },
  {
   "cell_type": "code",
   "execution_count": 33,
   "id": "little-georgia",
   "metadata": {},
   "outputs": [
    {
     "name": "stdout",
     "output_type": "stream",
     "text": [
      "9\n"
     ]
    }
   ],
   "source": [
    "maxl = l[0]\n",
    "\n",
    "for i in range(1,len(l)):\n",
    "    if l[i] > maxl:\n",
    "        maxl = l[i]\n",
    "print(maxl)"
   ]
  },
  {
   "cell_type": "markdown",
   "id": "northern-action",
   "metadata": {},
   "source": [
    "# Finding Second Largest From the list"
   ]
  },
  {
   "cell_type": "code",
   "execution_count": 35,
   "id": "measured-campus",
   "metadata": {},
   "outputs": [],
   "source": [
    "l = [4,5,6,2,3,9,1]\n",
    "\n",
    "# l.sort()\n",
    "# l[-2]"
   ]
  },
  {
   "cell_type": "code",
   "execution_count": 37,
   "id": "variable-studio",
   "metadata": {},
   "outputs": [
    {
     "name": "stdout",
     "output_type": "stream",
     "text": [
      "6\n"
     ]
    }
   ],
   "source": [
    "maxl = max(l[0],l[1])\n",
    "snl = min(l[0],l[1])\n",
    "\n",
    "for i in range(2,len(l)):\n",
    "    if l[i] > maxl:\n",
    "        snl = maxl\n",
    "        maxl = l[i]\n",
    "print(snl)"
   ]
  },
  {
   "cell_type": "markdown",
   "id": "everyday-friendship",
   "metadata": {},
   "source": [
    "# Linear Search"
   ]
  },
  {
   "cell_type": "code",
   "execution_count": 47,
   "id": "precious-fight",
   "metadata": {},
   "outputs": [
    {
     "name": "stdout",
     "output_type": "stream",
     "text": [
      "43\n"
     ]
    }
   ],
   "source": [
    "l = [4,5,6,2,43,9,1,20,12,43]\n",
    "\n",
    "e = int(input())\n",
    "\n"
   ]
  },
  {
   "cell_type": "code",
   "execution_count": 49,
   "id": "closed-victim",
   "metadata": {},
   "outputs": [
    {
     "name": "stdout",
     "output_type": "stream",
     "text": [
      "Found at 5th position\n"
     ]
    }
   ],
   "source": [
    "Found = False\n",
    "for i in range(len(l)):\n",
    "    if l[i] == e:\n",
    "        Found = True\n",
    "        print(\"Found at {}th position\".format(i+1))\n",
    "#         break\n",
    "if not Found:\n",
    "    print(\"Element not found\")"
   ]
  },
  {
   "cell_type": "markdown",
   "id": "fourth-transportation",
   "metadata": {},
   "source": [
    "# Binary Search"
   ]
  },
  {
   "cell_type": "code",
   "execution_count": 1,
   "id": "motivated-plymouth",
   "metadata": {},
   "outputs": [
    {
     "name": "stdout",
     "output_type": "stream",
     "text": [
      "20\n"
     ]
    }
   ],
   "source": [
    "l = [1, 2, 4, 5, 6, 9, 12, 20, 43]\n",
    "\n",
    "e = int(input())\n"
   ]
  },
  {
   "cell_type": "code",
   "execution_count": 2,
   "id": "blind-combine",
   "metadata": {},
   "outputs": [],
   "source": [
    "def binsearch(arr, x):\n",
    "    low = 0\n",
    "    high = len(arr)-1\n",
    "    mid = 0\n",
    "    \n",
    "    while low <= high:\n",
    "        mid = (low + high)//2\n",
    "        \n",
    "        if arr[mid] < x:\n",
    "            low = mid + 1\n",
    "            \n",
    "        elif arr[mid] > x:\n",
    "            high = mid - 1\n",
    "        \n",
    "        else:\n",
    "            return mid\n",
    "        \n",
    "    return -1"
   ]
  },
  {
   "cell_type": "code",
   "execution_count": 6,
   "id": "engaging-momentum",
   "metadata": {},
   "outputs": [
    {
     "data": {
      "text/plain": [
       "-1"
      ]
     },
     "execution_count": 6,
     "metadata": {},
     "output_type": "execute_result"
    }
   ],
   "source": [
    "binsearch(l,444)"
   ]
  },
  {
   "cell_type": "markdown",
   "id": "first-auckland",
   "metadata": {},
   "source": [
    "# Insertion Sort"
   ]
  },
  {
   "cell_type": "code",
   "execution_count": 6,
   "id": "imposed-conducting",
   "metadata": {},
   "outputs": [],
   "source": [
    "l = [4,5,6,2,43,9,1,20,12,43]"
   ]
  },
  {
   "cell_type": "code",
   "execution_count": 7,
   "id": "pleasant-armenia",
   "metadata": {},
   "outputs": [],
   "source": [
    "def insertion_sort(arr):\n",
    "    for i in range(1,len(arr)):\n",
    "        \n",
    "        key = arr[i]\n",
    "        \n",
    "        j = i - 1\n",
    "        while j>= 0 and key <arr[j]:\n",
    "            arr[j+1] = arr[j]\n",
    "            j-=1\n",
    "        \n",
    "        arr[j+1] = key\n",
    "    print(arr)"
   ]
  },
  {
   "cell_type": "code",
   "execution_count": 8,
   "id": "cleared-buddy",
   "metadata": {},
   "outputs": [
    {
     "name": "stdout",
     "output_type": "stream",
     "text": [
      "[1, 2, 4, 5, 6, 9, 12, 20, 43, 43]\n"
     ]
    }
   ],
   "source": [
    "insertion_sort(l)"
   ]
  },
  {
   "cell_type": "code",
   "execution_count": null,
   "id": "curious-announcement",
   "metadata": {},
   "outputs": [],
   "source": []
  }
 ],
 "metadata": {
  "kernelspec": {
   "display_name": "Python 3",
   "language": "python",
   "name": "python3"
  },
  "language_info": {
   "codemirror_mode": {
    "name": "ipython",
    "version": 3
   },
   "file_extension": ".py",
   "mimetype": "text/x-python",
   "name": "python",
   "nbconvert_exporter": "python",
   "pygments_lexer": "ipython3",
   "version": "3.7.4"
  }
 },
 "nbformat": 4,
 "nbformat_minor": 5
}
