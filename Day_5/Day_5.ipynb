{
 "cells": [
  {
   "cell_type": "code",
   "execution_count": 30,
   "id": "simplified-retailer",
   "metadata": {},
   "outputs": [
    {
     "data": {
      "text/plain": [
       "[44, 11]"
      ]
     },
     "execution_count": 30,
     "metadata": {},
     "output_type": "execute_result"
    }
   ],
   "source": [
    "[67,45,65,101]\n",
    "[23,34,54,21]\n",
    "[67-23, 45-34]\n"
   ]
  },
  {
   "cell_type": "code",
   "execution_count": 31,
   "id": "constant-active",
   "metadata": {},
   "outputs": [
    {
     "name": "stdout",
     "output_type": "stream",
     "text": [
      "Enter number elements in list14\n",
      "Enter number elements in list25\n"
     ]
    }
   ],
   "source": [
    "l1e = int(input(\"Enter number elements in list1\"))\n",
    "l2e = int(input(\"Enter number elements in list2\"))"
   ]
  },
  {
   "cell_type": "code",
   "execution_count": 32,
   "id": "healthy-cotton",
   "metadata": {},
   "outputs": [
    {
     "name": "stdout",
     "output_type": "stream",
     "text": [
      "Enter Elements of list1\n",
      "23\n",
      "25\n",
      "21\n",
      "45\n",
      "Enter Elements of list2\n",
      "45\n",
      "21\n",
      "76\n",
      "89\n",
      "78\n"
     ]
    }
   ],
   "source": [
    "l1 = []\n",
    "l2 = []\n",
    "print(\"Enter Elements of list1\")\n",
    "for i in range(l1e):\n",
    "    l1.append(int(input()))\n",
    "print(\"Enter Elements of list2\")\n",
    "for i in range(l2e):\n",
    "    l2.append(int(input()))\n"
   ]
  },
  {
   "cell_type": "code",
   "execution_count": 41,
   "id": "insured-exclusive",
   "metadata": {},
   "outputs": [],
   "source": [
    "if l1e<l2e:\n",
    "     a = l1\n",
    "else:\n",
    "    a = l2\n",
    "b = min(l1e,l2e)\n",
    "for i in range(b,len(a)+1):\n",
    "    a.append(0)\n",
    "    \n"
   ]
  },
  {
   "cell_type": "code",
   "execution_count": 38,
   "id": "hired-singer",
   "metadata": {},
   "outputs": [],
   "source": [
    "res = []\n",
    "\n",
    "for i in range(len(a)):\n",
    "    res.append(a[i]-l2[i])"
   ]
  },
  {
   "cell_type": "code",
   "execution_count": 39,
   "id": "american-village",
   "metadata": {},
   "outputs": [
    {
     "name": "stdout",
     "output_type": "stream",
     "text": [
      "[-22, 4, -55, -44, -78]\n"
     ]
    }
   ],
   "source": [
    "print(res)"
   ]
  },
  {
   "cell_type": "code",
   "execution_count": 36,
   "id": "actual-dispute",
   "metadata": {},
   "outputs": [
    {
     "data": {
      "text/plain": [
       "78"
      ]
     },
     "execution_count": 36,
     "metadata": {},
     "output_type": "execute_result"
    }
   ],
   "source": [
    "max(1,43,65,78,3,22)"
   ]
  },
  {
   "cell_type": "code",
   "execution_count": 37,
   "id": "narrative-adrian",
   "metadata": {},
   "outputs": [
    {
     "data": {
      "text/plain": [
       "1"
      ]
     },
     "execution_count": 37,
     "metadata": {},
     "output_type": "execute_result"
    }
   ],
   "source": [
    "min(1,43,65,78,3,22)"
   ]
  },
  {
   "cell_type": "code",
   "execution_count": 43,
   "id": "tested-cuisine",
   "metadata": {},
   "outputs": [],
   "source": [
    "# 1 2 3 4 5\n",
    "# 2 2 4 56 6"
   ]
  },
  {
   "cell_type": "code",
   "execution_count": 62,
   "id": "disturbed-resource",
   "metadata": {},
   "outputs": [
    {
     "name": "stdout",
     "output_type": "stream",
     "text": [
      "1 2 3 4\n"
     ]
    }
   ],
   "source": [
    "a = list(map(int,input().split()))\n"
   ]
  },
  {
   "cell_type": "code",
   "execution_count": 63,
   "id": "sitting-europe",
   "metadata": {},
   "outputs": [
    {
     "data": {
      "text/plain": [
       "[1, 2, 3, 4]"
      ]
     },
     "execution_count": 63,
     "metadata": {},
     "output_type": "execute_result"
    }
   ],
   "source": [
    "a"
   ]
  },
  {
   "cell_type": "code",
   "execution_count": 64,
   "id": "thrown-central",
   "metadata": {},
   "outputs": [],
   "source": [
    "map?"
   ]
  },
  {
   "cell_type": "code",
   "execution_count": 65,
   "id": "weighted-anthropology",
   "metadata": {},
   "outputs": [
    {
     "ename": "TypeError",
     "evalue": "int() argument must be a string, a bytes-like object or a number, not 'list'",
     "output_type": "error",
     "traceback": [
      "\u001b[0;31m---------------------------------------------------------------------------\u001b[0m",
      "\u001b[0;31mTypeError\u001b[0m                                 Traceback (most recent call last)",
      "\u001b[0;32m<ipython-input-65-5a69faa07eec>\u001b[0m in \u001b[0;36m<module>\u001b[0;34m\u001b[0m\n\u001b[1;32m      1\u001b[0m \u001b[0ml\u001b[0m \u001b[0;34m=\u001b[0m \u001b[0;34m[\u001b[0m\u001b[0;36m1\u001b[0m\u001b[0;34m,\u001b[0m\u001b[0;34m\"2\"\u001b[0m\u001b[0;34m,\u001b[0m\u001b[0;34m\"3\"\u001b[0m\u001b[0;34m]\u001b[0m\u001b[0;34m\u001b[0m\u001b[0;34m\u001b[0m\u001b[0m\n\u001b[0;32m----> 2\u001b[0;31m \u001b[0mint\u001b[0m\u001b[0;34m(\u001b[0m\u001b[0ml\u001b[0m\u001b[0;34m)\u001b[0m\u001b[0;34m\u001b[0m\u001b[0;34m\u001b[0m\u001b[0m\n\u001b[0m",
      "\u001b[0;31mTypeError\u001b[0m: int() argument must be a string, a bytes-like object or a number, not 'list'"
     ]
    }
   ],
   "source": [
    "l = [1,\"2\",\"3\"]\n",
    "int(l)"
   ]
  },
  {
   "cell_type": "code",
   "execution_count": 66,
   "id": "driven-contract",
   "metadata": {},
   "outputs": [],
   "source": [
    "mat1 = [[1,2],\n",
    "        [4,5]]\n",
    "mat2 = [[10,20],\n",
    "        [40,50]]\n",
    "mat3 = []\n"
   ]
  },
  {
   "cell_type": "code",
   "execution_count": 72,
   "id": "earned-newfoundland",
   "metadata": {},
   "outputs": [],
   "source": [
    "for i in range(len(mat1)):\n",
    "#     a = []\n",
    "    for j in range(len(mat1[0])):\n",
    "        mat3.append(mat1[i][j]+ mat2[i][j])\n",
    "#     mat3.append(a)"
   ]
  },
  {
   "cell_type": "code",
   "execution_count": 73,
   "id": "dated-helping",
   "metadata": {},
   "outputs": [
    {
     "name": "stdout",
     "output_type": "stream",
     "text": [
      "[11, 22]\n",
      "[44, 55]\n",
      "11\n",
      "22\n",
      "44\n",
      "55\n"
     ]
    }
   ],
   "source": [
    "for i in range(len(mat3)):\n",
    "    print(mat3[i])"
   ]
  },
  {
   "cell_type": "code",
   "execution_count": 85,
   "id": "opened-cutting",
   "metadata": {},
   "outputs": [],
   "source": [
    "mat1 = [[1,2],\n",
    "        [4,5]]\n",
    "mat1_tp = []\n",
    "rows = len(mat1)\n",
    "cols = len(mat1[0])"
   ]
  },
  {
   "cell_type": "code",
   "execution_count": 86,
   "id": "parallel-aggregate",
   "metadata": {},
   "outputs": [
    {
     "ename": "IndexError",
     "evalue": "list index out of range",
     "output_type": "error",
     "traceback": [
      "\u001b[0;31m---------------------------------------------------------------------------\u001b[0m",
      "\u001b[0;31mIndexError\u001b[0m                                Traceback (most recent call last)",
      "\u001b[0;32m<ipython-input-86-dd4a36f83aef>\u001b[0m in \u001b[0;36m<module>\u001b[0;34m\u001b[0m\n\u001b[1;32m      2\u001b[0m     \u001b[0ma\u001b[0m \u001b[0;34m=\u001b[0m \u001b[0;34m[\u001b[0m\u001b[0;34m]\u001b[0m\u001b[0;34m\u001b[0m\u001b[0;34m\u001b[0m\u001b[0m\n\u001b[1;32m      3\u001b[0m     \u001b[0;32mfor\u001b[0m \u001b[0mj\u001b[0m \u001b[0;32min\u001b[0m \u001b[0mrange\u001b[0m\u001b[0;34m(\u001b[0m\u001b[0mcols\u001b[0m\u001b[0;34m)\u001b[0m\u001b[0;34m:\u001b[0m\u001b[0;34m\u001b[0m\u001b[0;34m\u001b[0m\u001b[0m\n\u001b[0;32m----> 4\u001b[0;31m         \u001b[0ma\u001b[0m\u001b[0;34m.\u001b[0m\u001b[0mappend\u001b[0m\u001b[0;34m(\u001b[0m\u001b[0mmat1\u001b[0m\u001b[0;34m[\u001b[0m\u001b[0mj\u001b[0m\u001b[0;34m]\u001b[0m\u001b[0;34m[\u001b[0m\u001b[0mi\u001b[0m\u001b[0;34m]\u001b[0m\u001b[0;34m)\u001b[0m\u001b[0;34m\u001b[0m\u001b[0;34m\u001b[0m\u001b[0m\n\u001b[0m\u001b[1;32m      5\u001b[0m     \u001b[0mmat1_tp\u001b[0m\u001b[0;34m.\u001b[0m\u001b[0mappend\u001b[0m\u001b[0;34m(\u001b[0m\u001b[0ma\u001b[0m\u001b[0;34m)\u001b[0m\u001b[0;34m\u001b[0m\u001b[0;34m\u001b[0m\u001b[0m\n",
      "\u001b[0;31mIndexError\u001b[0m: list index out of range"
     ]
    }
   ],
   "source": [
    "for i in range(rows):\n",
    "    a = []\n",
    "    for j in range(cols):\n",
    "        a.append(mat1[j][i])\n",
    "    mat1_tp.append(a)"
   ]
  },
  {
   "cell_type": "code",
   "execution_count": 80,
   "id": "threatened-latter",
   "metadata": {},
   "outputs": [
    {
     "name": "stdout",
     "output_type": "stream",
     "text": [
      "[1, 4]\n",
      "[2, 5]\n"
     ]
    }
   ],
   "source": [
    "for i in range(len(mat1_tp)):\n",
    "    print(mat1_tp[i])\n"
   ]
  },
  {
   "cell_type": "code",
   "execution_count": 82,
   "id": "according-string",
   "metadata": {},
   "outputs": [],
   "source": [
    "# Matrix Multiplication"
   ]
  },
  {
   "cell_type": "code",
   "execution_count": 84,
   "id": "studied-center",
   "metadata": {},
   "outputs": [
    {
     "data": {
      "text/plain": [
       "2"
      ]
     },
     "execution_count": 84,
     "metadata": {},
     "output_type": "execute_result"
    }
   ],
   "source": [
    "mat1_tp[0]"
   ]
  },
  {
   "cell_type": "code",
   "execution_count": 87,
   "id": "champion-accounting",
   "metadata": {},
   "outputs": [
    {
     "data": {
      "text/plain": [
       "16"
      ]
     },
     "execution_count": 87,
     "metadata": {},
     "output_type": "execute_result"
    }
   ],
   "source": [
    "import math\n",
    "pow(2,4)"
   ]
  },
  {
   "cell_type": "code",
   "execution_count": null,
   "id": "banner-training",
   "metadata": {},
   "outputs": [],
   "source": []
  },
  {
   "cell_type": "code",
   "execution_count": null,
   "id": "dental-auditor",
   "metadata": {},
   "outputs": [],
   "source": []
  }
 ],
 "metadata": {
  "kernelspec": {
   "display_name": "Python 3",
   "language": "python",
   "name": "python3"
  }
 },
 "nbformat": 4,
 "nbformat_minor": 5
}
